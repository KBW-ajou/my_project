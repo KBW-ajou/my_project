{
 "cells": [
  {
   "cell_type": "markdown",
   "metadata": {},
   "source": [
    "라이브러리 불러오기"
   ]
  },
  {
   "cell_type": "code",
   "execution_count": 50,
   "metadata": {},
   "outputs": [],
   "source": [
    "import pandas as pd\n",
    "import matplotlib.pyplot as plt\n",
    "from sklearn.cluster import KMeans"
   ]
  },
  {
   "cell_type": "markdown",
   "metadata": {},
   "source": [
    "데이터 불러오기"
   ]
  },
  {
   "cell_type": "code",
   "execution_count": 51,
   "metadata": {},
   "outputs": [],
   "source": [
    "# 착지 파일 업로드\n",
    "landing_df = pd.read_csv('착지.csv')\n",
    "\n",
    "# 주문 파일 업로드\n",
    "order_mon_df = pd.read_csv('주문_월요일.csv')\n",
    "order_tue_df = pd.read_csv('주문_화요일.csv')\n",
    "order_wed_df = pd.read_csv('주문_수요일.csv')\n",
    "order_thu_df = pd.read_csv('주문_목요일.csv')\n",
    "order_fri_df = pd.read_csv('주문_금요일.csv')\n",
    "order_sat_df = pd.read_csv('주문_토요일.csv')\n",
    "\n",
    "# OD Matrix 파일 업로드\n",
    "OD_csv = pd.read_csv('updated_OD_Matrix_corrected 3.csv')\n",
    "\n",
    "# 센터 파일 업로드\n",
    "center = pd.read_csv('센터.csv')\n",
    "\n",
    "# 차량 파일 업로드 \n",
    "vehicle = pd.read_csv('차량정보.csv')"
   ]
  },
  {
   "cell_type": "markdown",
   "metadata": {},
   "source": [
    "착지 테이블과 주문 테이블 합치기"
   ]
  },
  {
   "cell_type": "code",
   "execution_count": 52,
   "metadata": {},
   "outputs": [],
   "source": [
    "# ID와 Stop_ID를 기준으로 병합\n",
    "integration_mon_df = pd.merge(landing_df[:], order_mon_df[:], left_on='ID', right_on='Stop_ID')\n",
    "integration_tue_df = pd.merge(landing_df[:], order_tue_df[:], left_on='ID', right_on='Stop_ID')\n",
    "integration_wed_df = pd.merge(landing_df[:], order_wed_df[:], left_on='ID', right_on='Stop_ID')\n",
    "integration_thu_df = pd.merge(landing_df[:], order_thu_df[:], left_on='ID', right_on='Stop_ID')\n",
    "integration_fri_df = pd.merge(landing_df[:], order_fri_df[:], left_on='ID', right_on='Stop_ID')\n",
    "integration_sat_df = pd.merge(landing_df[:], order_sat_df[:], left_on='ID', right_on='Stop_ID')\n",
    "\n",
    "# 불필요한 열 제거 (Y_y, X_y만 제거, Stop_ID는 Order_ID와 함께 유지)\n",
    "integration_mon_df = integration_mon_df.drop(columns=['Y_y', 'X_y'])\n",
    "integration_tue_df = integration_tue_df.drop(columns=['Y_y', 'X_y'])\n",
    "integration_wed_df = integration_wed_df.drop(columns=['Y_y', 'X_y'])\n",
    "integration_thu_df = integration_thu_df.drop(columns=['Y_y', 'X_y'])\n",
    "integration_fri_df = integration_fri_df.drop(columns=['Y_y', 'X_y'])\n",
    "integration_sat_df = integration_sat_df.drop(columns=['Y_y', 'X_y'])\n",
    "\n",
    "# 열 이름 변경\n",
    "integration_mon_df = integration_mon_df.rename(columns={'Y_x': 'Y', 'X_x': 'X'})\n",
    "integration_tue_df = integration_tue_df.rename(columns={'Y_x': 'Y', 'X_x': 'X'})\n",
    "integration_wed_df = integration_wed_df.rename(columns={'Y_x': 'Y', 'X_x': 'X'})\n",
    "integration_thu_df = integration_thu_df.rename(columns={'Y_x': 'Y', 'X_x': 'X'})\n",
    "integration_fri_df = integration_fri_df.rename(columns={'Y_x': 'Y', 'X_x': 'X'})\n",
    "integration_sat_df = integration_sat_df.rename(columns={'Y_x': 'Y', 'X_x': 'X'})\n",
    "\n",
    "# 열 순서 재정렬\n",
    "cols_1 = ['Order_ID', 'ID'] + [col for col in integration_mon_df.columns if col not in ['Order_ID', 'ID']]\n",
    "cols_2 = ['Order_ID', 'ID'] + [col for col in integration_tue_df.columns if col not in ['Order_ID', 'ID']]\n",
    "cols_3 = ['Order_ID', 'ID'] + [col for col in integration_wed_df.columns if col not in ['Order_ID', 'ID']]\n",
    "cols_4 = ['Order_ID', 'ID'] + [col for col in integration_thu_df.columns if col not in ['Order_ID', 'ID']]\n",
    "cols_5 = ['Order_ID', 'ID'] + [col for col in integration_fri_df.columns if col not in ['Order_ID', 'ID']]\n",
    "cols_6 = ['Order_ID', 'ID'] + [col for col in integration_sat_df.columns if col not in ['Order_ID', 'ID']]\n",
    "\n",
    "integration_mon_df = integration_mon_df[cols_1]\n",
    "integration_tue_df = integration_tue_df[cols_2]\n",
    "integration_wed_df = integration_wed_df[cols_3]\n",
    "integration_thu_df = integration_thu_df[cols_4]\n",
    "integration_fri_df = integration_fri_df[cols_5]\n",
    "integration_sat_df = integration_sat_df[cols_6]"
   ]
  },
  {
   "cell_type": "markdown",
   "metadata": {},
   "source": [
    "진입제한이 1000인 테이블, 진입제한이 1000이 넘으면서 무게가 3000을 안 넘는 테이블, 진입제한이 1000을 넘으면서 무게가 3000을 넘는 테이블로 나누기"
   ]
  },
  {
   "cell_type": "code",
   "execution_count": 53,
   "metadata": {},
   "outputs": [],
   "source": [
    "one_mon_df = integration_mon_df[integration_mon_df['Access_restriction'] == 1000]\n",
    "one_tue_df = integration_tue_df[integration_tue_df['Access_restriction'] == 1000]\n",
    "one_wed_df = integration_wed_df[integration_wed_df['Access_restriction'] == 1000]\n",
    "one_thu_df = integration_thu_df[integration_thu_df['Access_restriction'] == 1000]\n",
    "one_fri_df = integration_fri_df[integration_fri_df['Access_restriction'] == 1000]\n",
    "one_sat_df = integration_sat_df[integration_sat_df['Access_restriction'] == 1000]\n",
    "else_mon_df = integration_mon_df[integration_mon_df['Access_restriction'] != 1000]\n",
    "else_tue_df = integration_tue_df[integration_tue_df['Access_restriction'] != 1000]\n",
    "else_wed_df = integration_wed_df[integration_wed_df['Access_restriction'] != 1000]\n",
    "else_thu_df = integration_thu_df[integration_thu_df['Access_restriction'] != 1000]\n",
    "else_fri_df = integration_fri_df[integration_fri_df['Access_restriction'] != 1000]\n",
    "else_sat_df = integration_sat_df[integration_sat_df['Access_restriction'] != 1000]"
   ]
  },
  {
   "cell_type": "code",
   "execution_count": 54,
   "metadata": {},
   "outputs": [],
   "source": [
    "three_mon_df = else_mon_df[else_mon_df['weight'] <= 3500]\n",
    "three_tue_df = else_tue_df[else_tue_df['weight'] <= 3500]\n",
    "three_wed_df = else_wed_df[else_wed_df['weight'] <= 3500]\n",
    "three_thu_df = else_thu_df[else_thu_df['weight'] <= 3500]\n",
    "three_fri_df = else_fri_df[else_fri_df['weight'] <= 3500]\n",
    "three_sat_df = else_sat_df[else_sat_df['weight'] <= 3500]\n",
    "eleven_mon_df = else_mon_df[else_mon_df['weight'] > 3500]\n",
    "eleven_tue_df = else_tue_df[else_tue_df['weight'] > 3500]\n",
    "eleven_wed_df = else_wed_df[else_wed_df['weight'] > 3500]\n",
    "eleven_thu_df = else_thu_df[else_thu_df['weight'] > 3500]\n",
    "eleven_fri_df = else_fri_df[else_fri_df['weight'] > 3500]\n",
    "eleven_sat_df = else_sat_df[else_sat_df['weight'] > 3500]"
   ]
  },
  {
   "cell_type": "markdown",
   "metadata": {},
   "source": [
    "클러스터링 함수"
   ]
  },
  {
   "cell_type": "code",
   "execution_count": 55,
   "metadata": {},
   "outputs": [],
   "source": [
    "def clustering(order_df, num_cluster):\n",
    "    # Step 1: 착지 파일에서 Start_time과 End_time을 기준으로 클러스터링 (4개 클러스터)\n",
    "    kmeans_time = KMeans(n_clusters=4, random_state=42)\n",
    "    landing_df['Cluster_time'] = kmeans_time.fit_predict(landing_df[['Start_time', 'End_time']])\n",
    "\n",
    "    # Step 2: 각 클러스터별로 ID 리스트를 생성\n",
    "    cluster_id_lists = [[] for _ in range(4)]\n",
    "    for cluster_num in range(4):\n",
    "        cluster_id_lists[cluster_num] = landing_df[landing_df['Cluster_time'] == cluster_num]['ID'][:].tolist()\n",
    "\n",
    "    # Step 3: 주문 파일에서 각 클러스터 리스트의 ID와 Stop_ID를 매칭하여 클러스터별로 데이터 분리 및 클러스터링\n",
    "    location_cluster_dfs = []\n",
    "    for cluster_num, id_list in enumerate(cluster_id_lists):\n",
    "        cluster_time = order_df[order_df['Stop_ID'].isin(id_list)].copy()\n",
    "        \n",
    "        # Step 4: 각 클러스터 내에서 X와 Y를 기준으로 다시 클러스터링 (예: num_cluster 개 클러스터)\n",
    "        kmeans_location = KMeans(n_clusters=num_cluster, random_state=42)\n",
    "        cluster_time['Cluster_location'] = kmeans_location.fit_predict(cluster_time[['X', 'Y']])\n",
    "        \n",
    "        # 각 위치 클러스터별 데이터프레임을 저장할 리스트\n",
    "        cluster_location_dfs = []\n",
    "        for inner_cluster_num in range(num_cluster):\n",
    "            cluster_location_df = cluster_time[cluster_time['Cluster_location'] == inner_cluster_num].copy()\n",
    "            cluster_location_dfs.append(cluster_location_df)\n",
    "        \n",
    "        # 각 시간별 클러스터에 해당하는 위치별 클러스터 데이터프레임을 저장\n",
    "        location_cluster_dfs.append(cluster_location_dfs)\n",
    "    \n",
    "    return location_cluster_dfs"
   ]
  },
  {
   "cell_type": "code",
   "execution_count": 56,
   "metadata": {},
   "outputs": [],
   "source": [
    "def clustering(order_df, num_cluster):\n",
    "    # Step 1: 착지 파일에서 Start_time과 End_time을 기준으로 클러스터링 (4개 클러스터)\n",
    "    kmeans_time = KMeans(n_clusters=4, random_state=42)\n",
    "    landing_df['Cluster_time'] = kmeans_time.fit_predict(landing_df[['Start_time', 'End_time']]) \n",
    "\n",
    "    # Step 2: 각 클러스터별로 ID 리스트를 생성\n",
    "    cluster_id_lists = [[] for _ in range(4)]\n",
    "    for cluster_num in range(4):\n",
    "        cluster_id_lists[cluster_num] = landing_df[landing_df['Cluster_time'] == cluster_num]['ID'][:].tolist()\n",
    "\n",
    "    # Step 3: 주문 파일에서 각 클러스터 리스트의 ID와 Stop_ID를 매칭하여 클러스터별로 데이터 분리 및 클러스터링\n",
    "    location_cluster_dfs = []\n",
    "    for cluster_num, id_list in enumerate(cluster_id_lists):\n",
    "        cluster_time = order_df[order_df['Stop_ID'].isin(id_list)].copy()\n",
    "        \n",
    "        # Step 4: 각 클러스터 내에서 X와 Y를 기준으로 다시 클러스터링 (예: num_cluster 개 클러스터)\n",
    "        kmeans_location = KMeans(n_clusters=num_cluster, random_state=42)\n",
    "        cluster_time['Cluster_location'] = kmeans_location.fit_predict(cluster_time[['X', 'Y']])\n",
    "        \n",
    "        # 각 위치 클러스터별 데이터프레임을 저장할 리스트\n",
    "        cluster_location_dfs = []\n",
    "        for inner_cluster_num in range(num_cluster):\n",
    "            cluster_location_df = cluster_time[cluster_time['Cluster_location'] == inner_cluster_num].copy()\n",
    "            cluster_location_dfs.append(cluster_location_df)\n",
    "        \n",
    "        # 각 시간별 클러스터에 해당하는 위치별 클러스터 데이터프레임을 저장\n",
    "        location_cluster_dfs.append(cluster_location_dfs)\n",
    "    \n",
    "    return location_cluster_dfs"
   ]
  },
  {
   "cell_type": "code",
   "execution_count": 57,
   "metadata": {},
   "outputs": [],
   "source": [
    "mon_cluster_1 = clustering(one_mon_df, 2)\n",
    "tue_cluster_1 = clustering(one_tue_df, 2)\n",
    "wed_cluster_1 = clustering(one_wed_df, 2)\n",
    "thu_cluster_1 = clustering(one_thu_df, 2)\n",
    "fri_cluster_1 = clustering(one_fri_df, 2)\n",
    "sat_cluster_1 = clustering(one_sat_df, 2)\n",
    "mon_cluster_3 = clustering(three_mon_df, 7)\n",
    "tue_cluster_3 = clustering(three_tue_df, 7)\n",
    "wed_cluster_3 = clustering(three_wed_df, 7)\n",
    "thu_cluster_3 = clustering(three_thu_df, 7)\n",
    "fri_cluster_3 = clustering(three_fri_df, 7)\n",
    "sat_cluster_3 = clustering(three_sat_df, 7)\n",
    "mon_cluster_11 = clustering(eleven_mon_df, 2)\n",
    "tue_cluster_11 = clustering(eleven_tue_df, 2)\n",
    "wed_cluster_11 = clustering(eleven_wed_df, 2)\n",
    "thu_cluster_11 = clustering(eleven_thu_df, 2)\n",
    "fri_cluster_11 = clustering(eleven_fri_df, 2)\n",
    "sat_cluster_11 = clustering(eleven_sat_df, 2)"
   ]
  },
  {
   "cell_type": "markdown",
   "metadata": {},
   "source": [
    "시각화"
   ]
  },
  {
   "cell_type": "code",
   "execution_count": 58,
   "metadata": {},
   "outputs": [],
   "source": [
    "# colors = ['red', 'green', 'blue', 'purple', 'orange', 'cyan', 'magenta']\n",
    "\n",
    "# plt.figure(figsize=(15, 10))\n",
    "\n",
    "# for time_cluster_num, location_clusters in enumerate(result):\n",
    "#     for loc_cluster_num, df in enumerate(location_clusters):\n",
    "#         plt.scatter(df['X'], df['Y'], color=colors[loc_cluster_num % len(colors)],\n",
    "#                     label=f'Time Cluster {time_cluster_num}, Location Cluster {loc_cluster_num}' if time_cluster_num == 0 else \"\")\n",
    "\n",
    "# plt.xlabel('X Coordinate')\n",
    "# plt.ylabel('Y Coordinate')\n",
    "# plt.title('Clustered Locations')\n",
    "# plt.legend(loc='upper right', bbox_to_anchor=(1.15, 1))\n",
    "# plt.show()"
   ]
  },
  {
   "cell_type": "markdown",
   "metadata": {},
   "source": [
    "착지별 OD Matrix 함수"
   ]
  },
  {
   "cell_type": "code",
   "execution_count": 59,
   "metadata": {},
   "outputs": [],
   "source": [
    "def OD_Matrix(Bin):\n",
    "    # OriginID와 DestinationID 리스트\n",
    "    origin_ids = Bin[:]\n",
    "    destination_ids = Bin[:]\n",
    "\n",
    "    # 리스트에 termianl 추가\n",
    "    origin_ids.append('Terminal')\n",
    "    destination_ids.append('Terminal')\n",
    "\n",
    "    # 데이터를 필터링하여 필요한 OriginID와 DestinationID만 남기기\n",
    "    filtered_data = OD_csv[(OD_csv['OriginID'].isin(origin_ids)) & OD_csv['DestinationID'].isin(destination_ids)]\n",
    "\n",
    "    # 피벗 테이블을 사용하여 2차원 OD Matrix 만들기 (Total_Time 기준)\n",
    "    od_time = filtered_data.pivot(index='OriginID', columns='DestinationID', values='Total_Time')\n",
    "    od_distance = filtered_data.pivot(index='OriginID', columns='DestinationID', values='Total_Distance')\n",
    "\n",
    "    return od_distance, od_time"
   ]
  },
  {
   "cell_type": "markdown",
   "metadata": {},
   "source": [
    "빈 생성 알고리즘"
   ]
  },
  {
   "cell_type": "code",
   "execution_count": 60,
   "metadata": {},
   "outputs": [],
   "source": [
    "def sort_and_make_bin(cluster, max_weight=3500, max_plt=8, MaxCount=15):\n",
    "    \n",
    "    # 각 Stop_ID에 해당하는 Order_ID 리스트와 총 무게, total_plt를 계산하여 데이터프레임 생성\n",
    "    stop_order_map = cluster.groupby('Stop_ID')['Order_ID'].apply(list).reset_index()\n",
    "    stop_order_map['total_weight'] = cluster.groupby('Stop_ID')['weight'].sum().values\n",
    "    stop_order_map['total_plt'] = cluster.groupby('Stop_ID')['plt'].sum().values\n",
    "\n",
    "    # total_weight를 기준으로 내림차순 정렬하여 무거운 주문부터 처리\n",
    "    stop_order_map = stop_order_map.sort_values(by='total_weight', ascending=False).reset_index(drop=True)\n",
    "    \n",
    "    grouped_orders = []  # 그룹화된 주문을 저장할 리스트\n",
    "    grouped_stop_ids = []  # 그룹화된 Stop_ID를 저장할 리스트\n",
    "    group_weights = []  # 각 그룹의 총 무게 리스트 (이차원 리스트)\n",
    "    group_plts = []  # 각 그룹의 총 팔레트 수 리스트 (이차원 리스트)\n",
    "    \n",
    "    current_group = []   # 현재 그룹의 주문을 저장할 리스트\n",
    "    current_stop_ids = []  # 현재 그룹의 Stop_ID를 저장할 리스트\n",
    "    current_weight = 0   # 현재 그룹의 총 무게를 저장할 변수\n",
    "    current_plt = 0      # 현재 그룹의 총 팔레트 수를 저장할 변수\n",
    "    not_check_orders = list(cluster['Order_ID'])  # 처리되지 않은 주문 ID 리스트\n",
    "    \n",
    "    while not_check_orders:  # not_check_orders 리스트가 비어있지 않은 동안 루프를 계속 실행. 즉, 처리되지 않은 주문이 남아 있는 한 계속 실행\n",
    "        any_order_processed = False # 루프가 한 번이라도 실행되는지 확인하기 위한 플래그 변수 초기화\n",
    "        \n",
    "        for idx, row in stop_order_map.iterrows():  # stop_order_map의 각 행을 순회하며 Stop_ID와 Order_ID를 가져옴\n",
    "            stop_id = row['Stop_ID']\n",
    "            orders = row['Order_ID']\n",
    "            \n",
    "            # 같은 착지의 주문들은 무조건 같은 그룹에 포함\n",
    "            group_weight = sum(cluster[cluster['Order_ID'].isin(orders)]['weight']) # orders 리스트에 포함된 주문들의 총 무게를 계산하여 group_weight 변수에 저장\n",
    "            group_plt = sum(cluster[cluster['Order_ID'].isin(orders)]['plt']) # orders 리스트에 포함된 주문들의 총 팔레트 수를 계산하여 group_plt 변수에 저장\n",
    "            \n",
    "            if (current_weight + group_weight <= max_weight and \n",
    "                current_plt + group_plt <= max_plt and \n",
    "                len(current_stop_ids) + 1 <= MaxCount): # 현재 그룹에 새로운 주문들을 추가했을 때, 최대 무게, 최대 팔레트 수 및 최대 착지 수를 초과하지 않는지 확인\n",
    "                current_group.extend(orders) # orders 리스트의 주문들을 current_group에 추가\n",
    "                current_weight += group_weight \n",
    "                current_plt += group_plt\n",
    "                if stop_id not in current_stop_ids: # 현재 그룹에 stop_id가 포함되어 있지 않다면 current_stop_ids에 추가\n",
    "                    current_stop_ids.append(stop_id)\n",
    "                for order in orders:\n",
    "                    if order in not_check_orders: # 주문이 not_check_orders에 있으면\n",
    "                        not_check_orders.remove(order) # not_check_orders에서 주문을 제거\n",
    "                any_order_processed = True\n",
    "            \n",
    "            if current_weight >= max_weight or current_plt >= max_plt or len(current_stop_ids) >= MaxCount: \n",
    "                # 현재 그룹의 총 무게가 최대 무게에 도달하거나, 총 팔레트 수가 최대 팔레트 수에 도달했거나, 착지 수가 최대 착지 수에 도달했는지 확인\n",
    "                break # 이 조건이 참이면, 더 이상 현재 그룹에 주문을 추가하지 않기 위해 반복문을 종료\n",
    "        \n",
    "        # 현재 그룹을 저장하고 새로운 그룹 시작\n",
    "        if any_order_processed: # 이번 루프에서 주문이 추가되었는지 확인해서 만약 하나라도 추가된 경우, 현재 그룹을 저장하고 새로운 그룹을 시작\n",
    "            stop_weights = [sum(cluster[(cluster['Stop_ID'] == sid) & (cluster['Order_ID'].isin(current_group))]['weight']) for sid in current_stop_ids]\n",
    "            stop_plts = [sum(cluster[(cluster['Stop_ID'] == sid) & (cluster['Order_ID'].isin(current_group))]['plt']) for sid in current_stop_ids]\n",
    "            grouped_orders.append(current_group)\n",
    "            grouped_stop_ids.append(current_stop_ids)\n",
    "            group_weights.append(stop_weights)\n",
    "            group_plts.append(stop_plts)\n",
    "            current_group = [] # current_group을 초기화하여 새로운 그룹을 시작할 준비\n",
    "            current_stop_ids = [] # current_stop_ids를 초기화하여 새로운 그룹을 시작할 준비\n",
    "            current_weight = 0 # current_weight 초기화\n",
    "            current_plt = 0 # current_plt 초기화\n",
    "            \n",
    "            # stop_order_map에서 이미 처리된 주문을 제거\n",
    "            # apply 함수로 각 Order_ID 리스트가 not_check_orders에 없는 경우를 필터링\n",
    "            stop_order_map = stop_order_map[~stop_order_map['Order_ID'].apply(lambda x: all(order not in not_check_orders for order in x))]\n",
    "            stop_order_map.reset_index(drop=True, inplace=True) # stop_order_map의 인덱스를 재설정하고, drop=True로 기존 인덱스를 제거\n",
    "        \n",
    "        # 무한 루프 방지: 주문이 제거되지 않은 경우 루프를 탈출\n",
    "        if not any_order_processed:\n",
    "            break\n",
    "\n",
    "    # 남은 그룹 추가\n",
    "    if current_group: # 현재 그룹에 주문이 남아 있는 경우, 이 그룹을 저장\n",
    "        stop_weights = [sum(cluster[(cluster['Stop_ID'] == sid) & (cluster['Order_ID'].isin(current_group))]['weight']) for sid in current_stop_ids]\n",
    "        stop_plts = [sum(cluster[(cluster['Stop_ID'] == sid) & (cluster['Order_ID'].isin(current_group))]['plt']) for sid in current_stop_ids]\n",
    "        grouped_orders.append(current_group)\n",
    "        grouped_stop_ids.append(current_stop_ids)\n",
    "        group_weights.append(stop_weights)\n",
    "        group_plts.append(stop_plts)\n",
    "\n",
    "    return grouped_orders, grouped_stop_ids, group_weights, group_plts"
   ]
  },
  {
   "cell_type": "code",
   "execution_count": 61,
   "metadata": {},
   "outputs": [
    {
     "name": "stdout",
     "output_type": "stream",
     "text": [
      "Grouped Orders: [['O_562', 'O_1702', 'O_1703', 'O_383', 'O_1093', 'O_276', 'O_129'], ['O_287', 'O_773', 'O_281', 'O_556', 'O_126'], ['O_447', 'O_1761', 'O_1762', 'O_1763', 'O_1764', 'O_1765', 'O_1766', 'O_374', 'O_762', 'O_763', 'O_125'], ['O_315', 'O_758', 'O_759', 'O_380', 'O_723', 'O_139', 'O_1140', 'O_1141'], ['O_328', 'O_1319', 'O_1320', 'O_314', 'O_1433', 'O_1434', 'O_1435']]\n",
      "Grouped Stop IDs: [['S_935', 'S_642', 'S_469', 'S_228'], ['S_486', 'S_476', 'S_924', 'S_225'], ['S_749', 'S_631', 'S_224'], ['S_539', 'S_638', 'S_244'], ['S_560', 'S_536']]\n",
      "Group Weights: [[2638.7200000000003, 507.1, 344.4, 7.64], [2508.81, 898.21, 49.18, 43.54], [2259.33, 1109.59, 101.19], [1274.02, 1255.04, 425.45], [1081.51, 996.19]]\n",
      "Group Plts: [[2.24, 0.74, 0.45, 0.12], [5.23, 1.35, 0.14, 0.18], [3.27, 1.92, 0.12], [2.66, 3.47, 1.0], [2.0, 2.11]]\n"
     ]
    }
   ],
   "source": [
    "# 함수 실행 예시\n",
    "grouped_orders, grouped_stop_ids, group_weights, group_plts = sort_and_make_bin(mon_cluster_3[3][0])\n",
    "\n",
    "print(f\"Grouped Orders: {grouped_orders}\")\n",
    "print(f\"Grouped Stop IDs: {grouped_stop_ids}\")\n",
    "print(f\"Group Weights: {group_weights}\")\n",
    "print(f\"Group Plts: {group_plts}\")"
   ]
  },
  {
   "cell_type": "markdown",
   "metadata": {},
   "source": [
    "시각 계산 함수"
   ]
  },
  {
   "cell_type": "code",
   "execution_count": 62,
   "metadata": {},
   "outputs": [],
   "source": [
    "def min_cal(current_time, add_min = 0, plt = 0):\n",
    "    # 현재 시간을 시와 분으로 분리\n",
    "    current_hour = int(current_time)\n",
    "    current_min = (current_time - current_hour)*100 \n",
    "\n",
    "    add_time_hour = add_min //60\n",
    "    add_time_min = add_min % 60 \n",
    "    \n",
    "    # plt의 개수당 10분을 추가\n",
    "    additional_minutes = (plt * 10) % 60 \n",
    "    additional_houres = (plt * 10) // 60\n",
    "\n",
    "    # 총 분 계산 (기존 분 + 추가할 분 + plt에 의한 추가 분)\n",
    "    new_time_hour = current_hour + add_time_hour + additional_houres\n",
    "    new_time_min = current_min + add_time_min + additional_minutes\n",
    "    new_time = new_time_hour + (new_time_min // 60) + (new_time_min % 60 /100)\n",
    "        \n",
    "    return new_time"
   ]
  },
  {
   "cell_type": "markdown",
   "metadata": {},
   "source": [
    "라우팅 알고리즘"
   ]
  },
  {
   "cell_type": "code",
   "execution_count": 63,
   "metadata": {},
   "outputs": [],
   "source": [
    "# 초기해(근사 최적해)를 구하는 Nearest Neighbor 알고리즘\n",
    "def nearest_neighbor(matrix):\n",
    "    start_node = 'Terminal'\n",
    "    n = len(matrix)\n",
    "    visited = {node: False for node in matrix.index}\n",
    "    path = [start_node]\n",
    "    current_node = start_node\n",
    "    visited[current_node] = True\n",
    "\n",
    "    while len(path) < n:\n",
    "        current_index = current_node\n",
    "        next_node = None\n",
    "        min_distance = float('inf')\n",
    "        \n",
    "        for node in matrix.index:\n",
    "            if not visited[node] and matrix.loc[current_index, node] < min_distance:\n",
    "                min_distance = matrix.loc[current_index, node]\n",
    "                next_node = node\n",
    "        \n",
    "        if next_node is None:\n",
    "            break\n",
    "        \n",
    "        path.append(next_node)\n",
    "        visited[next_node] = True\n",
    "        current_node = next_node\n",
    "    path.append('Terminal')\n",
    "    return path\n",
    "\n",
    "\n",
    "# 초기해의 꼬인 경로를 푸는 알고리즘\n",
    "def two_opt(path, matrix):\n",
    "    def path_cost(path):\n",
    "        cost = 0\n",
    "        for i in range(len(path) - 1):\n",
    "            cost += matrix.loc[path[i], path[i + 1]]\n",
    "        return cost\n",
    "\n",
    "    improved = True\n",
    "    max_no_improve = 10  # 개선이 없을 때 최대 반복 횟수\n",
    "    no_improve_count = 0\n",
    "\n",
    "    while improved and no_improve_count < max_no_improve:\n",
    "        improved = False\n",
    "        for i in range(1, len(path) - 2):\n",
    "            for j in range(i + 1, len(path)):\n",
    "                if j - i == 1: \n",
    "                    continue\n",
    "                new_path = path[:i] + path[i:j][::-1] + path[j:]\n",
    "                if path_cost(new_path) < path_cost(path):\n",
    "                    path = new_path\n",
    "                    improved = True\n",
    "                    no_improve_count = 0  # 개선이 있으면 카운터 초기화\n",
    "        if not improved:\n",
    "            no_improve_count += 1  # 개선이 없으면 카운터 증가\n",
    "    return path"
   ]
  },
  {
   "cell_type": "markdown",
   "metadata": {},
   "source": [
    "Route 시각화"
   ]
  },
  {
   "cell_type": "code",
   "execution_count": 64,
   "metadata": {},
   "outputs": [],
   "source": [
    "def visualization(route):\n",
    "    # 'Terminal'을 제외한 route 입력\n",
    "    stop_id_list = [order_id for order_id in route if order_id != 'Terminal']\n",
    "\n",
    "    # route에 포함된 Stop_ID로 필터링된 데이터프레임 생성\n",
    "    filtered_df = landing_df[landing_df['ID'].isin(stop_id_list)]\n",
    "\n",
    "    # Stop_ID가 route 순서대로 정렬된 데이터프레임 생성\n",
    "    sorted_df = filtered_df.set_index('ID').reindex(stop_id_list).reset_index()\n",
    "\n",
    "    X_coords = sorted_df['X'].tolist()\n",
    "    Y_coords = sorted_df['Y'].tolist()\n",
    "    X_coords.insert(0, 126.93562321)\n",
    "    X_coords.append(126.93562321)\n",
    "    Y_coords.insert(0, 37.33186943)\n",
    "    Y_coords.append(37.33186943)\n",
    "\n",
    "    plt.figure(figsize=(10, 6))\n",
    "    plt.scatter(X_coords, Y_coords, color='blue', marker='o', s=10)\n",
    "    plt.plot(X_coords, Y_coords)\n",
    "    plt.title('Order Locations')\n",
    "    plt.xlabel('X Coordinate')\n",
    "    plt.ylabel('Y Coordinate')\n",
    "    plt.grid(True)\n",
    "    plt.show()"
   ]
  },
  {
   "cell_type": "markdown",
   "metadata": {},
   "source": [
    "이동시간, 이동거리 계산 함수"
   ]
  },
  {
   "cell_type": "code",
   "execution_count": 65,
   "metadata": {},
   "outputs": [],
   "source": [
    "def moving_time(path, od_time):\n",
    "    moving_time_tmp = 0\n",
    "    for i in range(len(path) - 1):\n",
    "        moving_time_tmp += od_time.loc[path[i], path[i + 1]]\n",
    "    out_time_tmp = od_time.loc[path[0], path[1]]  # 터미널에서 첫 착지로 이동하는데 걸린 시간\n",
    "    in_time_tmp = od_time.loc[path[-2], path[-1]]  # 마지막 착지에서 터미널로 복귀하는데 걸린 시간\n",
    "    working_time_tmp = moving_time_tmp - (out_time_tmp + in_time_tmp)  # 움직이는 총 시간\n",
    "    moving_time = min_cal(0, moving_time_tmp, 0)\n",
    "    working_time = min_cal(0, working_time_tmp, 0)\n",
    "    out_time = min_cal(0, out_time_tmp, 0)\n",
    "    in_time = min_cal(0, in_time_tmp, 0)\n",
    "    return moving_time, working_time, out_time, in_time\n",
    "\n",
    "def route_distance(path, od_distance):\n",
    "    distance = 0\n",
    "    for i in range(len(path)-1):\n",
    "        distance += od_distance.loc[path[i],path[i+1]]\n",
    "    return distance"
   ]
  },
  {
   "cell_type": "markdown",
   "metadata": {},
   "source": [
    "하차시간 계산 함수"
   ]
  },
  {
   "cell_type": "code",
   "execution_count": 66,
   "metadata": {},
   "outputs": [],
   "source": [
    "def unloading_time(stop_id_list, plt_list): # plt에 따른 하차하는데 걸린 시간(분) (고정시간+변동시간)\n",
    "    tmp = 0\n",
    "    for i in range(len(stop_id_list)):\n",
    "        tmp += 5\n",
    "    for i in range(len(plt_list)):\n",
    "        tmp += plt_list[i]*10\n",
    "    unloading_time = tmp\n",
    "    return unloading_time "
   ]
  },
  {
   "cell_type": "code",
   "execution_count": 68,
   "metadata": {},
   "outputs": [
    {
     "name": "stdout",
     "output_type": "stream",
     "text": [
      "[['O_562', 'O_1702', 'O_1703', 'O_383', 'O_1093', 'O_276', 'O_129'], ['O_287', 'O_773', 'O_281', 'O_556', 'O_126'], ['O_447', 'O_1761', 'O_1762', 'O_1763', 'O_1764', 'O_1765', 'O_1766', 'O_374', 'O_762', 'O_763', 'O_125'], ['O_315', 'O_758', 'O_759', 'O_380', 'O_723', 'O_139', 'O_1140', 'O_1141'], ['O_328', 'O_1319', 'O_1320', 'O_314', 'O_1433', 'O_1434', 'O_1435']]\n",
      "[['S_935', 'S_642', 'S_469', 'S_228'], ['S_486', 'S_476', 'S_924', 'S_225'], ['S_749', 'S_631', 'S_224'], ['S_539', 'S_638', 'S_244'], ['S_560', 'S_536']]\n",
      "[[2638.7200000000003, 507.1, 344.4, 7.64], [2508.81, 898.21, 49.18, 43.54], [2259.33, 1109.59, 101.19], [1274.02, 1255.04, 425.45], [1081.51, 996.19]]\n",
      "[[2.24, 0.74, 0.45, 0.12], [5.23, 1.35, 0.14, 0.18], [3.27, 1.92, 0.12], [2.66, 3.47, 1.0], [2.0, 2.11]]\n"
     ]
    }
   ],
   "source": [
    "grouped_orders, grouped_stop_ids, group_weights, group_plts = sort_and_make_bin(mon_cluster_3[3][0])\n",
    "print(grouped_orders)\n",
    "print(grouped_stop_ids)\n",
    "print(group_weights)\n",
    "print(group_plts)"
   ]
  },
  {
   "cell_type": "markdown",
   "metadata": {},
   "source": [
    "시간 제약에 따른 빈 분할"
   ]
  },
  {
   "cell_type": "code",
   "execution_count": 69,
   "metadata": {},
   "outputs": [],
   "source": [
    "def Bin_Slicing(grouped_stop_ids, group_plts): \n",
    "    grouped_stop_ids_list = grouped_stop_ids.copy()\n",
    "    new_bin_list = []\n",
    "    new_moving_time_list = []\n",
    "    new_working_time_list = []\n",
    "    new_out_time_list = []\n",
    "    new_in_time_list = []\n",
    "    \n",
    "    while grouped_stop_ids_list:  # 리스트에 요소가 남아있는 동안 반복\n",
    "        tmp_stop_ids = grouped_stop_ids_list.pop(0)  # 첫 번째 원소를 가져와서 제거\n",
    "        tmp_plts = group_plts.pop(0)\n",
    "\n",
    "        for j in range(len(tmp_stop_ids)-1, -1, -1):\n",
    "            tmp_stop_ids_range = tmp_stop_ids[:j+1]\n",
    "            tmp_plts_range = tmp_plts[:j+1]\n",
    "\n",
    "            od_distance, od_time = OD_Matrix(tmp_stop_ids_range)\n",
    "            initial_path = nearest_neighbor(od_distance)\n",
    "            optimized_path = two_opt(initial_path, od_distance)\n",
    "            time_moving, time_working, time_out, time_in = moving_time(optimized_path, od_time) \n",
    "            unload_time = unloading_time(tmp_stop_ids_range, tmp_plts_range)\n",
    "            total_time_working = min_cal(time_working, unload_time, 0)\n",
    "\n",
    "            if total_time_working <= 2:\n",
    "                new_bin_list.append(tmp_stop_ids[:j+1])\n",
    "                distance, time = OD_Matrix(tmp_stop_ids[:j+1])\n",
    "                initial_path = nearest_neighbor(distance)\n",
    "                optimized_path = two_opt(initial_path, distance)\n",
    "                new_time_moving, new_time_working, new_time_out, new_time_in = moving_time(optimized_path, time)\n",
    "                new_unload_time = unloading_time(tmp_stop_ids_range, tmp_plts_range)\n",
    "                new_total_time_working = min_cal(new_time_working, new_unload_time, 0)\n",
    "\n",
    "                new_moving_time_list.append(new_time_moving)\n",
    "                new_working_time_list.append(new_total_time_working)\n",
    "                new_out_time_list.append(new_time_out)\n",
    "                new_in_time_list.append(new_time_in)\n",
    "\n",
    "                if j+1 < len(tmp_stop_ids):  # 남은 원소가 있는 경우만 추가\n",
    "                    grouped_stop_ids_list.append(tmp_stop_ids[j+1:])\n",
    "                    group_plts.append(tmp_plts[j+1:])\n",
    "                break\n",
    "\n",
    "    return new_bin_list, new_moving_time_list, new_working_time_list, new_out_time_list, new_in_time_list"
   ]
  },
  {
   "cell_type": "code",
   "execution_count": 70,
   "metadata": {},
   "outputs": [
    {
     "name": "stdout",
     "output_type": "stream",
     "text": [
      "[['S_935', 'S_642'], ['S_486', 'S_476'], ['S_749'], ['S_539', 'S_638'], ['S_560', 'S_536'], ['S_469', 'S_228'], ['S_924', 'S_225'], ['S_631', 'S_224'], ['S_244']]\n",
      "[3.0859947815155904, 2.1307119220749122, 1.4181052032967838, 3.2917787266610126, 2.5702817991955884, 2.376660089464119, 3.183162528914136, 2.3317336231054333, 1.5805522281484237]\n",
      "[1.1244981835790373, 1.4546205257017752, 0.377, 1.589774410119854, 1.1218290300012526, 1.0430565686408793, 1.0488810415921914, 1.049588866789567, 0.15]\n",
      "[1.1760560530523545, 0.5631121319804214, 0.5222598492698234, 1.252095730820079, 1.1223658196037996, 1.0069673856182493, 0.5596634674930958, 1.1304649986990922, 0.5998960870572533]\n",
      "[1.1834405448841987, 0.47097926439271537, 0.4958453540269605, 1.1629085857210797, 1.2370869495905361, 0.48363613520499066, 1.3066180198288484, 0.45567975761677404, 0.5806561410911705]\n"
     ]
    }
   ],
   "source": [
    "a, b, c, d, e = Bin_Slicing(grouped_stop_ids, group_plts)\n",
    "print(a)\n",
    "print(b)\n",
    "print(c)\n",
    "print(d)\n",
    "print(e)"
   ]
  },
  {
   "cell_type": "markdown",
   "metadata": {},
   "source": [
    "Route 시각화"
   ]
  },
  {
   "cell_type": "code",
   "execution_count": null,
   "metadata": {},
   "outputs": [
    {
     "data": {
      "image/png": "[encoded data removed]",
      "text/plain": [
       "<Figure size 1000x600 with 1 Axes>"
      ]
     },
     "metadata": {},
     "output_type": "display_data"
    }
   ],
   "source": [
    "visualization(over_stop_ids[0])"
   ]
  }
 ],
 "metadata": {
  "kernelspec": {
   "display_name": "Python 3",
   "language": "python",
   "name": "python3"
  },
  "language_info": {
   "codemirror_mode": {
    "name": "ipython",
    "version": 3
   },
   "file_extension": ".py",
   "mimetype": "text/x-python",
   "name": "python",
   "nbconvert_exporter": "python",
   "pygments_lexer": "ipython3",
   "version": "3.11.3"
  }
 },
 "nbformat": 4,
 "nbformat_minor": 2
}
